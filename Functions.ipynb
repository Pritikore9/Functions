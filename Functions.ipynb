{
 "cells": [
  {
   "cell_type": "markdown",
   "id": "b2874dea",
   "metadata": {},
   "source": [
    "* Function Defining\n",
    "* Positional & Keyword arguments in functions"
   ]
  },
  {
   "cell_type": "code",
   "execution_count": 1,
   "id": "18060043",
   "metadata": {},
   "outputs": [
    {
     "name": "stdout",
     "output_type": "stream",
     "text": [
      "The number is even\n"
     ]
    }
   ],
   "source": [
    "num=54\n",
    "if num%2==0:\n",
    "    print('The number is even')\n",
    "else:\n",
    "    print('The number is odd')"
   ]
  },
  {
   "cell_type": "code",
   "execution_count": 2,
   "id": "ea6c7c7b",
   "metadata": {},
   "outputs": [],
   "source": [
    "def even_odd(num):\n",
    "    if num%2==0:\n",
    "        print('Even')\n",
    "    else:\n",
    "        print('odd')"
   ]
  },
  {
   "cell_type": "code",
   "execution_count": 3,
   "id": "bec2a67a",
   "metadata": {},
   "outputs": [
    {
     "ename": "TypeError",
     "evalue": "even_odd() missing 1 required positional argument: 'num'",
     "output_type": "error",
     "traceback": [
      "\u001b[1;31m---------------------------------------------------------------------------\u001b[0m",
      "\u001b[1;31mTypeError\u001b[0m                                 Traceback (most recent call last)",
      "Input \u001b[1;32mIn [3]\u001b[0m, in \u001b[0;36m<cell line: 1>\u001b[1;34m()\u001b[0m\n\u001b[1;32m----> 1\u001b[0m \u001b[43meven_odd\u001b[49m\u001b[43m(\u001b[49m\u001b[43m)\u001b[49m\n",
      "\u001b[1;31mTypeError\u001b[0m: even_odd() missing 1 required positional argument: 'num'"
     ]
    }
   ],
   "source": [
    "even_odd()           #here it gives error bcoz we need to define the number with function calling"
   ]
  },
  {
   "cell_type": "code",
   "execution_count": 4,
   "id": "99de36a3",
   "metadata": {},
   "outputs": [
    {
     "name": "stdout",
     "output_type": "stream",
     "text": [
      "odd\n"
     ]
    }
   ],
   "source": [
    "even_odd(43)"
   ]
  },
  {
   "cell_type": "code",
   "execution_count": 5,
   "id": "5fab6d0c",
   "metadata": {},
   "outputs": [
    {
     "name": "stdout",
     "output_type": "stream",
     "text": [
      "Even\n"
     ]
    }
   ],
   "source": [
    "even_odd(88)"
   ]
  },
  {
   "cell_type": "code",
   "execution_count": 6,
   "id": "ccb51963",
   "metadata": {},
   "outputs": [],
   "source": [
    "# Print vs return\n",
    "\n",
    "def Hello_world():\n",
    "    print('Hello Welcome')"
   ]
  },
  {
   "cell_type": "code",
   "execution_count": 7,
   "id": "7e2d1795",
   "metadata": {},
   "outputs": [
    {
     "name": "stdout",
     "output_type": "stream",
     "text": [
      "Hello Welcome\n"
     ]
    }
   ],
   "source": [
    "Hello_world()"
   ]
  },
  {
   "cell_type": "code",
   "execution_count": 8,
   "id": "1d6ae387",
   "metadata": {},
   "outputs": [
    {
     "name": "stdout",
     "output_type": "stream",
     "text": [
      "Hello Welcome\n"
     ]
    }
   ],
   "source": [
    "val=Hello_world()"
   ]
  },
  {
   "cell_type": "code",
   "execution_count": 9,
   "id": "eb0a8df0",
   "metadata": {},
   "outputs": [],
   "source": [
    "def Hello_world():\n",
    "    return 'Hello_welcome'"
   ]
  },
  {
   "cell_type": "code",
   "execution_count": 10,
   "id": "2cd0cb5e",
   "metadata": {},
   "outputs": [
    {
     "data": {
      "text/plain": [
       "'Hello_welcome'"
      ]
     },
     "execution_count": 10,
     "metadata": {},
     "output_type": "execute_result"
    }
   ],
   "source": [
    "Hello_world()"
   ]
  },
  {
   "cell_type": "code",
   "execution_count": 11,
   "id": "0c02bf9a",
   "metadata": {},
   "outputs": [],
   "source": [
    "val=Hello_world()"
   ]
  },
  {
   "cell_type": "code",
   "execution_count": 12,
   "id": "5e0e6588",
   "metadata": {},
   "outputs": [
    {
     "name": "stdout",
     "output_type": "stream",
     "text": [
      "Hello_welcome\n"
     ]
    }
   ],
   "source": [
    "print(val)"
   ]
  },
  {
   "cell_type": "code",
   "execution_count": 13,
   "id": "345b1141",
   "metadata": {},
   "outputs": [],
   "source": [
    "def add_num(num1,num2):\n",
    "    return num1+num2"
   ]
  },
  {
   "cell_type": "code",
   "execution_count": 14,
   "id": "fb864ba0",
   "metadata": {},
   "outputs": [
    {
     "data": {
      "text/plain": [
       "56"
      ]
     },
     "execution_count": 14,
     "metadata": {},
     "output_type": "execute_result"
    }
   ],
   "source": [
    "add_num(24,32)"
   ]
  },
  {
   "cell_type": "code",
   "execution_count": 15,
   "id": "8a063236",
   "metadata": {},
   "outputs": [],
   "source": [
    "val=add_num(32,65)"
   ]
  },
  {
   "cell_type": "code",
   "execution_count": 16,
   "id": "78d39252",
   "metadata": {},
   "outputs": [
    {
     "data": {
      "text/plain": [
       "97"
      ]
     },
     "execution_count": 16,
     "metadata": {},
     "output_type": "execute_result"
    }
   ],
   "source": [
    "val"
   ]
  },
  {
   "cell_type": "code",
   "execution_count": 17,
   "id": "f9551cb1",
   "metadata": {},
   "outputs": [],
   "source": [
    "def hello(name,age=23):\n",
    "    print('my name is {} and age is {}'.format(name,age))"
   ]
  },
  {
   "cell_type": "code",
   "execution_count": 18,
   "id": "258cee10",
   "metadata": {},
   "outputs": [
    {
     "ename": "TypeError",
     "evalue": "hello() missing 1 required positional argument: 'name'",
     "output_type": "error",
     "traceback": [
      "\u001b[1;31m---------------------------------------------------------------------------\u001b[0m",
      "\u001b[1;31mTypeError\u001b[0m                                 Traceback (most recent call last)",
      "Input \u001b[1;32mIn [18]\u001b[0m, in \u001b[0;36m<cell line: 2>\u001b[1;34m()\u001b[0m\n\u001b[0;32m      1\u001b[0m \u001b[38;5;66;03m# here name is positional argument, so we have to give the positional argument\u001b[39;00m\n\u001b[1;32m----> 2\u001b[0m \u001b[43mhello\u001b[49m\u001b[43m(\u001b[49m\u001b[43m)\u001b[49m\n",
      "\u001b[1;31mTypeError\u001b[0m: hello() missing 1 required positional argument: 'name'"
     ]
    }
   ],
   "source": [
    "# here name is positional argument, so we have to give the positional argument\n",
    "hello()"
   ]
  },
  {
   "cell_type": "code",
   "execution_count": 19,
   "id": "09be779b",
   "metadata": {},
   "outputs": [
    {
     "name": "stdout",
     "output_type": "stream",
     "text": [
      "my name is priti and age is 23\n"
     ]
    }
   ],
   "source": [
    "# age is keywrod argument, it is like the key & value pair\n",
    "\n",
    "hello('priti')"
   ]
  },
  {
   "cell_type": "code",
   "execution_count": 20,
   "id": "c6b4c32a",
   "metadata": {},
   "outputs": [],
   "source": [
    "def hello(name,age):\n",
    "    print('my name is {} and age is {}'.format(name,age))"
   ]
  },
  {
   "cell_type": "code",
   "execution_count": 21,
   "id": "9dfba722",
   "metadata": {},
   "outputs": [
    {
     "ename": "TypeError",
     "evalue": "hello() missing 1 required positional argument: 'age'",
     "output_type": "error",
     "traceback": [
      "\u001b[1;31m---------------------------------------------------------------------------\u001b[0m",
      "\u001b[1;31mTypeError\u001b[0m                                 Traceback (most recent call last)",
      "Input \u001b[1;32mIn [21]\u001b[0m, in \u001b[0;36m<cell line: 1>\u001b[1;34m()\u001b[0m\n\u001b[1;32m----> 1\u001b[0m \u001b[43mhello\u001b[49m\u001b[43m(\u001b[49m\u001b[38;5;124;43m'\u001b[39;49m\u001b[38;5;124;43mpriti\u001b[39;49m\u001b[38;5;124;43m'\u001b[39;49m\u001b[43m)\u001b[49m\n",
      "\u001b[1;31mTypeError\u001b[0m: hello() missing 1 required positional argument: 'age'"
     ]
    }
   ],
   "source": [
    "hello('priti')\n",
    "\n",
    "# here the age is become a positional argument becoz we are defining the age value"
   ]
  },
  {
   "cell_type": "code",
   "execution_count": 22,
   "id": "b5da3f83",
   "metadata": {},
   "outputs": [
    {
     "name": "stdout",
     "output_type": "stream",
     "text": [
      "my name is priti and age is 23\n"
     ]
    }
   ],
   "source": [
    "hello('priti','23')"
   ]
  },
  {
   "cell_type": "code",
   "execution_count": 23,
   "id": "76ac6fd0",
   "metadata": {},
   "outputs": [],
   "source": [
    "# *args are positional arguments and **kwargs are keyword argument "
   ]
  },
  {
   "cell_type": "code",
   "execution_count": 24,
   "id": "10b56af3",
   "metadata": {},
   "outputs": [],
   "source": [
    "def hello(*args,**kwargs):\n",
    "    print(args)\n",
    "    print(kwargs)"
   ]
  },
  {
   "cell_type": "code",
   "execution_count": 25,
   "id": "99ba9dc9",
   "metadata": {},
   "outputs": [
    {
     "name": "stdout",
     "output_type": "stream",
     "text": [
      "('priti', 'kore')\n",
      "{'age': 23, 'profile': 'ML Engineer'}\n"
     ]
    }
   ],
   "source": [
    "hello('priti','kore',age=23,profile='ML Engineer')"
   ]
  },
  {
   "cell_type": "code",
   "execution_count": 26,
   "id": "75135a9e",
   "metadata": {},
   "outputs": [],
   "source": [
    "lst=['arati','nhavi']\n",
    "dict_args={'age':24,'dob':1997}"
   ]
  },
  {
   "cell_type": "code",
   "execution_count": 27,
   "id": "5354b12e",
   "metadata": {},
   "outputs": [
    {
     "name": "stdout",
     "output_type": "stream",
     "text": [
      "(['arati', 'nhavi'], {'age': 24, 'dob': 1997})\n",
      "{}\n"
     ]
    }
   ],
   "source": [
    "hello(lst,dict_args)    # here it gives all value as positional argument"
   ]
  },
  {
   "cell_type": "code",
   "execution_count": 28,
   "id": "00efe7dd",
   "metadata": {},
   "outputs": [
    {
     "name": "stdout",
     "output_type": "stream",
     "text": [
      "('arati', 'nhavi')\n",
      "{'age': 24, 'dob': 1997}\n"
     ]
    }
   ],
   "source": [
    "hello(*lst,**dict_args)"
   ]
  },
  {
   "cell_type": "code",
   "execution_count": 29,
   "id": "b84aa42f",
   "metadata": {},
   "outputs": [],
   "source": [
    "list1=[1,2,3,4,5,6,7,8,9,10]"
   ]
  },
  {
   "cell_type": "code",
   "execution_count": 30,
   "id": "9e978581",
   "metadata": {},
   "outputs": [],
   "source": [
    "def sums(list1):\n",
    "    even_sum=0\n",
    "    odd_sum=0\n",
    "    for i in list1:\n",
    "        if i%2==0:\n",
    "            even_sum=even_sum+i\n",
    "        else:\n",
    "            odd_sum=odd_sum+i\n",
    "    return even_sum,odd_sum"
   ]
  },
  {
   "cell_type": "code",
   "execution_count": 31,
   "id": "0f2e4953",
   "metadata": {},
   "outputs": [
    {
     "data": {
      "text/plain": [
       "(30, 25)"
      ]
     },
     "execution_count": 31,
     "metadata": {},
     "output_type": "execute_result"
    }
   ],
   "source": [
    "sums(list1)"
   ]
  },
  {
   "cell_type": "code",
   "execution_count": 32,
   "id": "24b7b2a1",
   "metadata": {},
   "outputs": [],
   "source": [
    "def school():\n",
    "    for x in range(4):\n",
    "        a=int(input(\"Enter the number 1: \"))\n",
    "        b=int(input(\"enter the number 2: \"))\n",
    "        print(\"My addition is : \",a+b)"
   ]
  },
  {
   "cell_type": "code",
   "execution_count": 33,
   "id": "a5c82cb4",
   "metadata": {},
   "outputs": [
    {
     "name": "stdout",
     "output_type": "stream",
     "text": [
      "Enter the number 1: 2\n",
      "enter the number 2: 1\n",
      "My addition is :  3\n",
      "Enter the number 1: 3\n",
      "enter the number 2: 2\n",
      "My addition is :  5\n",
      "Enter the number 1: 34\n",
      "enter the number 2: 3\n",
      "My addition is :  37\n",
      "Enter the number 1: 34\n",
      "enter the number 2: 23\n",
      "My addition is :  57\n",
      "________________\n",
      "Enter the number 1: 2\n",
      "enter the number 2: 23\n",
      "My addition is :  25\n",
      "Enter the number 1: 23\n",
      "enter the number 2: 3\n",
      "My addition is :  26\n",
      "Enter the number 1: 23\n",
      "enter the number 2: 3\n",
      "My addition is :  26\n",
      "Enter the number 1: 2\n",
      "enter the number 2: 32\n",
      "My addition is :  34\n",
      "________________\n"
     ]
    }
   ],
   "source": [
    "def school():\n",
    "    for x in range(4):\n",
    "        a=int(input(\"Enter the number 1: \"))\n",
    "        b=int(input(\"enter the number 2: \"))\n",
    "        print(\"My addition is : \",a+b)\n",
    "    print(\"________________\")\n",
    "\n",
    "for x1 in range(2):\n",
    "    school()"
   ]
  },
  {
   "cell_type": "code",
   "execution_count": 34,
   "id": "fa29190f",
   "metadata": {},
   "outputs": [
    {
     "name": "stdout",
     "output_type": "stream",
     "text": [
      "Enter the count: 2\n",
      "1\n",
      "2\n"
     ]
    }
   ],
   "source": [
    "def person(n):\n",
    "    for x in range(n):\n",
    "        print(x+1)\n",
    "\n",
    "count=int(input(\"Enter the count: \"))\n",
    "person(count)"
   ]
  },
  {
   "cell_type": "code",
   "execution_count": 35,
   "id": "a8ce0b5d",
   "metadata": {},
   "outputs": [],
   "source": [
    "## function without argument with return type\n",
    "# using return type\n",
    "\n",
    "def person():\n",
    "    a=20\n",
    "    b=34\n",
    "    return b"
   ]
  },
  {
   "cell_type": "code",
   "execution_count": 36,
   "id": "6130ebf4",
   "metadata": {},
   "outputs": [],
   "source": [
    "# function with argument and with return type\n",
    "def person(n):\n",
    "    name=[]\n",
    "    for x in range(n):\n",
    "        nm=input(\"Enter the name: \")\n",
    "        name.append(nm)\n",
    "    return name\n"
   ]
  },
  {
   "cell_type": "code",
   "execution_count": 38,
   "id": "b332cc6a",
   "metadata": {},
   "outputs": [],
   "source": [
    "def school():\n",
    "    print(\"welcome to school function....\")\n",
    "    stud=person(3)\n",
    "    for x in stud:\n",
    "        if x==\"Sachin\":\n",
    "            print(\"He is cricketer\")\n",
    "        elif x==\"Niraj\":\n",
    "            print(\"Javelian\")\n",
    "        else:\n",
    "            print(\"Your are not sport person\")"
   ]
  },
  {
   "cell_type": "code",
   "execution_count": 40,
   "id": "db423563",
   "metadata": {},
   "outputs": [
    {
     "name": "stdout",
     "output_type": "stream",
     "text": [
      "welcome to school function....\n",
      "Enter the name: Sachin\n",
      "Enter the name: kirti\n",
      "Enter the name: Niraj\n",
      "He is cricketer\n",
      "Your are not sport person\n",
      "Javelian\n"
     ]
    }
   ],
   "source": [
    "school()"
   ]
  },
  {
   "cell_type": "code",
   "execution_count": 41,
   "id": "da895a25",
   "metadata": {},
   "outputs": [
    {
     "name": "stdout",
     "output_type": "stream",
     "text": [
      "Enter the name: priti\n",
      "Enter the name: kirti\n",
      "Enter the name: yash\n",
      "Welcome to marks function: \n",
      "Hi my name is  priti\n",
      "Enter the marks: 99\n",
      "Enter the marks: 23\n",
      "Enter the marks: 34\n",
      "Enter the marks: 32\n",
      "Enter the marks: 32\n",
      "My marks are:  ['priti', 'My marks', 99, 23, 34, 32, 32, 'Total MArks: ', 220, 'Average: ', 44.0]\n",
      "Hi my name is  kirti\n",
      "Enter the marks: 32\n",
      "Enter the marks: 343\n",
      "Enter the marks: 3\n",
      "Enter the marks: 365\n",
      "Enter the marks: 65\n",
      "My marks are:  ['priti', 'My marks', 99, 23, 34, 32, 32, 'Total MArks: ', 220, 'Average: ', 44.0, 'kirti', 'My marks', 32, 343, 3, 365, 65, 'Total MArks: ', 808, 'Average: ', 161.6]\n",
      "Hi my name is  yash\n",
      "Enter the marks: 65\n",
      "Enter the marks: 45\n",
      "Enter the marks: 45\n",
      "Enter the marks: 4545\n",
      "Enter the marks: 45\n",
      "My marks are:  ['priti', 'My marks', 99, 23, 34, 32, 32, 'Total MArks: ', 220, 'Average: ', 44.0, 'kirti', 'My marks', 32, 343, 3, 365, 65, 'Total MArks: ', 808, 'Average: ', 161.6, 'yash', 'My marks', 65, 45, 45, 4545, 45, 'Total MArks: ', 4745, 'Average: ', 949.0]\n"
     ]
    }
   ],
   "source": [
    "# with return type\n",
    "\n",
    "def school(n):\n",
    "    name=[]\n",
    "    for x in range(n):\n",
    "        nm=input(\"Enter the name: \")\n",
    "        name.append(nm)\n",
    "    return name\n",
    "def marks():\n",
    "    details=[]\n",
    "    marks=[]\n",
    "    name=school(3)\n",
    "    print(\"Welcome to marks function: \")\n",
    "    for x in name:\n",
    "        print(\"Hi my name is \",x)\n",
    "        details.append(x)\n",
    "        details.append(\"My marks\")\n",
    "        for x1 in range(5):\n",
    "            m=int(input(\"Enter the marks: \"))\n",
    "            marks.append(m)\n",
    "            details.append(m)\n",
    "        details.append(\"Total MArks: \")\n",
    "        total=sum(marks)\n",
    "        details.append(total)\n",
    "        details.append(\"Average: \")\n",
    "        avg=total/len(marks)\n",
    "        details.append(avg)\n",
    "        print(\"My marks are: \", details)\n",
    "        marks.clear()\n",
    "marks()"
   ]
  },
  {
   "cell_type": "markdown",
   "id": "bcc05e8c",
   "metadata": {},
   "source": []
  }
 ],
 "metadata": {
  "kernelspec": {
   "display_name": "Python 3 (ipykernel)",
   "language": "python",
   "name": "python3"
  },
  "language_info": {
   "codemirror_mode": {
    "name": "ipython",
    "version": 3
   },
   "file_extension": ".py",
   "mimetype": "text/x-python",
   "name": "python",
   "nbconvert_exporter": "python",
   "pygments_lexer": "ipython3",
   "version": "3.9.12"
  }
 },
 "nbformat": 4,
 "nbformat_minor": 5
}
